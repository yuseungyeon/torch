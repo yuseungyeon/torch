{
 "cells": [
  {
   "cell_type": "code",
   "execution_count": 1,
   "id": "incoming-violation",
   "metadata": {},
   "outputs": [],
   "source": [
    "import numpy as np"
   ]
  },
  {
   "cell_type": "code",
   "execution_count": 3,
   "id": "abandoned-skill",
   "metadata": {},
   "outputs": [],
   "source": [
    "xy = np.loadtxt(\"D:/torch/data-01-test-score.csv\", delimiter=',', dtype=np.float32)"
   ]
  },
  {
   "cell_type": "code",
   "execution_count": 4,
   "id": "brutal-kingston",
   "metadata": {},
   "outputs": [],
   "source": [
    "x_data = xy[:, 0:-1]\n",
    "y_data = xy[:,[-1]]"
   ]
  },
  {
   "cell_type": "code",
   "execution_count": 7,
   "id": "weekly-delhi",
   "metadata": {},
   "outputs": [
    {
     "name": "stdout",
     "output_type": "stream",
     "text": [
      "(25, 3)\n",
      "25\n",
      "[[ 73.  80.  75.]\n",
      " [ 93.  88.  93.]\n",
      " [ 89.  91.  90.]\n",
      " [ 96.  98. 100.]\n",
      " [ 73.  66.  70.]]\n"
     ]
    }
   ],
   "source": [
    "print(x_data.shape)\n",
    "print(len(x_data))\n",
    "print(x_data[:5])"
   ]
  },
  {
   "cell_type": "code",
   "execution_count": 8,
   "id": "caring-mineral",
   "metadata": {},
   "outputs": [
    {
     "name": "stdout",
     "output_type": "stream",
     "text": [
      "(25, 1)\n",
      "25\n",
      "[[152.]\n",
      " [185.]\n",
      " [180.]\n",
      " [196.]\n",
      " [142.]]\n"
     ]
    }
   ],
   "source": [
    "print(y_data.shape)\n",
    "print(len(y_data))\n",
    "print(y_data[:5])"
   ]
  },
  {
   "cell_type": "code",
   "execution_count": 9,
   "id": "tired-verification",
   "metadata": {},
   "outputs": [],
   "source": [
    "import torch\n",
    "import torch.nn as nn\n",
    "import torch.nn.functional as F\n",
    "import torch.optim as optim"
   ]
  },
  {
   "cell_type": "code",
   "execution_count": 10,
   "id": "removable-softball",
   "metadata": {},
   "outputs": [
    {
     "data": {
      "text/plain": [
       "<torch._C.Generator at 0x21db688c4f0>"
      ]
     },
     "execution_count": 10,
     "metadata": {},
     "output_type": "execute_result"
    }
   ],
   "source": [
    "torch.manual_seed(1)"
   ]
  },
  {
   "cell_type": "code",
   "execution_count": 11,
   "id": "oriented-permit",
   "metadata": {},
   "outputs": [
    {
     "name": "stdout",
     "output_type": "stream",
     "text": [
      "Epoch    0/20 cost 26811.960938\n",
      "Epoch    1/20 cost 9920.531250\n",
      "Epoch    2/20 cost 3675.298584\n",
      "Epoch    3/20 cost 1366.260498\n",
      "Epoch    4/20 cost 512.542480\n",
      "Epoch    5/20 cost 196.896606\n",
      "Epoch    6/20 cost 80.190987\n",
      "Epoch    7/20 cost 37.038692\n",
      "Epoch    8/20 cost 21.081337\n",
      "Epoch    9/20 cost 15.178760\n",
      "Epoch   10/20 cost 12.993677\n",
      "Epoch   11/20 cost 12.183029\n",
      "Epoch   12/20 cost 11.880534\n",
      "Epoch   13/20 cost 11.765964\n",
      "Epoch   14/20 cost 11.720856\n",
      "Epoch   15/20 cost 11.701437\n",
      "Epoch   16/20 cost 11.691510\n",
      "Epoch   17/20 cost 11.685122\n",
      "Epoch   18/20 cost 11.680007\n",
      "Epoch   19/20 cost 11.675373\n",
      "Epoch   20/20 cost 11.670942\n"
     ]
    }
   ],
   "source": [
    "x_train = torch.FloatTensor(x_data)\n",
    "y_train = torch.FloatTensor(y_data)\n",
    "\n",
    "W = torch.zeros((3,1), requires_grad = True)\n",
    "b = torch.zeros(1, requires_grad = True)\n",
    "\n",
    "optimizer = optim.SGD([W, b], lr = 1e-5)\n",
    "nb_epochs = 20\n",
    "\n",
    "for epoch in range(nb_epochs + 1):\n",
    "    hypothesis = x_train.matmul(W) + b\n",
    "    cost = F.mse_loss(hypothesis, y_train)\n",
    "    \n",
    "    optimizer.zero_grad()\n",
    "    cost.backward()\n",
    "    optimizer.step()\n",
    "    \n",
    "    print('Epoch {:4d}/{} cost {:.6f}'.format(epoch, nb_epochs, cost.item()))"
   ]
  },
  {
   "cell_type": "markdown",
   "id": "large-given",
   "metadata": {},
   "source": [
    "### High-level Implementation with nn.Module"
   ]
  },
  {
   "cell_type": "code",
   "execution_count": 12,
   "id": "consecutive-middle",
   "metadata": {},
   "outputs": [],
   "source": [
    "class MultivariateLinearRegressionModel(nn.Module):\n",
    "    def __init__(self):\n",
    "        super().__init__()\n",
    "        self.linear = nn.Linear(3, 1)\n",
    "        \n",
    "    def forward(self, x):\n",
    "        return self.linear(x)"
   ]
  },
  {
   "cell_type": "code",
   "execution_count": 13,
   "id": "thousand-album",
   "metadata": {},
   "outputs": [
    {
     "name": "stdout",
     "output_type": "stream",
     "text": [
      "Epoch    0/20 cost : 28693.488281\n",
      "Epoch    1/20 cost : 10618.750000\n",
      "Epoch    2/20 cost : 3936.015381\n",
      "Epoch    3/20 cost : 1465.219604\n",
      "Epoch    4/20 cost : 551.693726\n",
      "Epoch    5/20 cost : 213.934631\n",
      "Epoch    6/20 cost : 89.052269\n",
      "Epoch    7/20 cost : 42.876003\n",
      "Epoch    8/20 cost : 25.799639\n",
      "Epoch    9/20 cost : 19.482420\n",
      "Epoch   10/20 cost : 17.143093\n",
      "Epoch   11/20 cost : 16.274509\n",
      "Epoch   12/20 cost : 15.949721\n",
      "Epoch   13/20 cost : 15.825986\n",
      "Epoch   14/20 cost : 15.776566\n",
      "Epoch   15/20 cost : 15.754660\n",
      "Epoch   16/20 cost : 15.742918\n",
      "Epoch   17/20 cost : 15.734917\n",
      "Epoch   18/20 cost : 15.728307\n",
      "Epoch   19/20 cost : 15.722219\n",
      "Epoch   20/20 cost : 15.716357\n"
     ]
    }
   ],
   "source": [
    "x_train = torch.FloatTensor(x_data)\n",
    "y_train = torch.FloatTensor(y_data)\n",
    "\n",
    "model = MultivariateLinearRegressionModel()\n",
    "\n",
    "optimizer = optim.SGD(model.parameters(), lr = 1e-5)\n",
    "nb_epochs = 20\n",
    "\n",
    "for epoch in range(nb_epochs+1):\n",
    "    prediction = model(x_train)\n",
    "    cost = F.mse_loss(prediction, y_train)\n",
    "    \n",
    "    optimizer.zero_grad()\n",
    "    cost.backward()\n",
    "    optimizer.step()\n",
    "    \n",
    "    print(\"Epoch {:4d}/{} cost : {:.6f}\".format(epoch, nb_epochs, cost.item()))"
   ]
  },
  {
   "cell_type": "code",
   "execution_count": null,
   "id": "occasional-wilson",
   "metadata": {},
   "outputs": [],
   "source": []
  }
 ],
 "metadata": {
  "kernelspec": {
   "display_name": "Python 3",
   "language": "python",
   "name": "python3"
  },
  "language_info": {
   "codemirror_mode": {
    "name": "ipython",
    "version": 3
   },
   "file_extension": ".py",
   "mimetype": "text/x-python",
   "name": "python",
   "nbconvert_exporter": "python",
   "pygments_lexer": "ipython3",
   "version": "3.6.9"
  }
 },
 "nbformat": 4,
 "nbformat_minor": 5
}
